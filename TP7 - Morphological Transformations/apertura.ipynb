{
  "nbformat": 4,
  "nbformat_minor": 0,
  "metadata": {
    "colab": {
      "name": "apertura.ipynb",
      "provenance": [],
      "collapsed_sections": []
    },
    "kernelspec": {
      "name": "python3",
      "display_name": "Python 3"
    }
  },
  "cells": [
    {
      "cell_type": "code",
      "metadata": {
        "id": "VKDgg_Eiii5V",
        "outputId": "7da614d9-a0ed-4d92-f83b-4c972df7a092",
        "colab": {
          "base_uri": "https://localhost:8080/",
          "height": 411
        }
      },
      "source": [
        "!wget https://raw.githubusercontent.com/newtonis/tps_imagenes/master/TP7%20-%20Morphological%20Transformations/stars.PNG\n",
        "!wget https://raw.githubusercontent.com/newtonis/tps_imagenes/master/TP7%20-%20Morphological%20Transformations/figurab.PNG"
      ],
      "execution_count": null,
      "outputs": [
        {
          "output_type": "stream",
          "text": [
            "--2020-10-22 19:25:34--  https://raw.githubusercontent.com/newtonis/tps_imagenes/master/TP7%20-%20Morphological%20Transformations/stars.PNG\n",
            "Resolving raw.githubusercontent.com (raw.githubusercontent.com)... 151.101.0.133, 151.101.64.133, 151.101.128.133, ...\n",
            "Connecting to raw.githubusercontent.com (raw.githubusercontent.com)|151.101.0.133|:443... connected.\n",
            "HTTP request sent, awaiting response... 200 OK\n",
            "Length: 63631 (62K) [image/png]\n",
            "Saving to: ‘stars.PNG.2’\n",
            "\n",
            "\rstars.PNG.2           0%[                    ]       0  --.-KB/s               \rstars.PNG.2         100%[===================>]  62.14K  --.-KB/s    in 0.007s  \n",
            "\n",
            "2020-10-22 19:25:34 (8.09 MB/s) - ‘stars.PNG.2’ saved [63631/63631]\n",
            "\n",
            "--2020-10-22 19:25:35--  https://raw.githubusercontent.com/newtonis/tps_imagenes/master/TP7%20-%20Morphological%20Transformations/figurab.PNG\n",
            "Resolving raw.githubusercontent.com (raw.githubusercontent.com)... 151.101.0.133, 151.101.64.133, 151.101.128.133, ...\n",
            "Connecting to raw.githubusercontent.com (raw.githubusercontent.com)|151.101.0.133|:443... connected.\n",
            "HTTP request sent, awaiting response... 200 OK\n",
            "Length: 7204 (7.0K) [image/png]\n",
            "Saving to: ‘figurab.PNG.2’\n",
            "\n",
            "figurab.PNG.2       100%[===================>]   7.04K  --.-KB/s    in 0s      \n",
            "\n",
            "2020-10-22 19:25:35 (80.5 MB/s) - ‘figurab.PNG.2’ saved [7204/7204]\n",
            "\n"
          ],
          "name": "stdout"
        }
      ]
    },
    {
      "cell_type": "code",
      "metadata": {
        "id": "n1_T1Kt7jkp8"
      },
      "source": [
        "def plot_images(original,txt1,degraded,txt2):\n",
        "    fig=plt.figure(figsize=(14, 10))\n",
        "    fig.add_subplot(1, 2, 1)\n",
        "    plt.title(txt1)\n",
        "    plt.imshow(original,cmap='gray')\n",
        "    fig.add_subplot(1, 2, 2)\n",
        "    plt.title(txt2)\n",
        "    plt.imshow(degraded,cmap='gray')"
      ],
      "execution_count": null,
      "outputs": []
    },
    {
      "cell_type": "code",
      "metadata": {
        "id": "U8Um-Vk5hnR5",
        "outputId": "b26c22dc-edc2-4d5a-f9c0-8dfc6ee1ed42",
        "colab": {
          "base_uri": "https://localhost:8080/",
          "height": 612
        }
      },
      "source": [
        "import cv2\n",
        "import numpy as np\n",
        "import matplotlib.pyplot as plt\n",
        "\n",
        "img = cv2.imread('figurab.PNG',cv2.IMREAD_GRAYSCALE)\n",
        "kernel =  cv2.getStructuringElement(cv2.MORPH_CROSS,(4,4)) #np.array([[1,1,1],[1,1,1],[1,1,1]]) #np.ones((5,5),np.uint8)\n",
        "print(kernel) \n",
        "\n",
        "kernel = np.ones((25,25),np.uint8)\n",
        "opening = cv2.morphologyEx(img, cv2.MORPH_OPEN, kernel)\n",
        "\n",
        "#dilation = cv2.dilation(img,kernel,iterations = 2)\n",
        "#erosion = cv2.erosion(img,kernel,iterations = 2)\n",
        "plot_images(img,\"original\",opening,\"opening\")"
      ],
      "execution_count": null,
      "outputs": [
        {
          "output_type": "stream",
          "text": [
            "[[0 0 1 0]\n",
            " [0 0 1 0]\n",
            " [1 1 1 1]\n",
            " [0 0 1 0]]\n"
          ],
          "name": "stdout"
        },
        {
          "output_type": "display_data",
          "data": {
            "image/png": "[encoded data removed]",
            "text/plain": [
              "<Figure size 1008x720 with 2 Axes>"
            ]
          },
          "metadata": {
            "tags": [],
            "needs_background": "light"
          }
        }
      ]
    }
  ]
}